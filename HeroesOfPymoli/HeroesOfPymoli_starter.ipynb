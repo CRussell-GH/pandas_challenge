{
 "cells": [
  {
   "cell_type": "markdown",
   "metadata": {},
   "source": [
    "### Note\n",
    "* Instructions have been included for each segment. You do not have to follow them exactly, but they are included to help you think through the steps."
   ]
  },
  {
   "cell_type": "code",
   "execution_count": 1,
   "metadata": {},
   "outputs": [],
   "source": [
    "# Dependencies and Setup\n",
    "import pandas as pd\n",
    "\n",
    "# File to Load (Remember to Change These)\n",
    "file_to_load = \"Resources/purchase_data.csv\"\n",
    "\n",
    "# Read Purchasing File and store into Pandas data frame\n",
    "purchase_data = pd.read_csv(file_to_load)"
   ]
  },
  {
   "cell_type": "markdown",
   "metadata": {},
   "source": [
    "## Player Count"
   ]
  },
  {
   "cell_type": "markdown",
   "metadata": {},
   "source": [
    "* Display the total number of players\n"
   ]
  },
  {
   "cell_type": "code",
   "execution_count": 2,
   "metadata": {},
   "outputs": [
    {
     "name": "stdout",
     "output_type": "stream",
     "text": [
      "Total Players =  576\n"
     ]
    }
   ],
   "source": [
    "#count total purchases for future calculations\n",
    "total = purchase_data[\"SN\"].count()\n",
    "\n",
    "#find unique purchasers\n",
    "unique_data = purchase_data[\"SN\"].unique()\n",
    "\n",
    "#calculate total numbers of players\n",
    "num_players=len(unique_data)\n",
    "\n",
    "print(\"Total Players = \",num_players)\n",
    "\n"
   ]
  },
  {
   "cell_type": "code",
   "execution_count": null,
   "metadata": {},
   "outputs": [],
   "source": []
  },
  {
   "cell_type": "markdown",
   "metadata": {},
   "source": [
    "## Purchasing Analysis (Total)"
   ]
  },
  {
   "cell_type": "markdown",
   "metadata": {},
   "source": [
    "* Run basic calculations to obtain number of unique items, average price, etc.\n",
    "\n",
    "\n",
    "* Create a summary data frame to hold the results\n",
    "\n",
    "\n",
    "* Optional: give the displayed data cleaner formatting\n",
    "\n",
    "\n",
    "* Display the summary data frame\n"
   ]
  },
  {
   "cell_type": "code",
   "execution_count": 3,
   "metadata": {
    "scrolled": true
   },
   "outputs": [
    {
     "data": {
      "text/html": [
       "<div>\n",
       "<style scoped>\n",
       "    .dataframe tbody tr th:only-of-type {\n",
       "        vertical-align: middle;\n",
       "    }\n",
       "\n",
       "    .dataframe tbody tr th {\n",
       "        vertical-align: top;\n",
       "    }\n",
       "\n",
       "    .dataframe thead th {\n",
       "        text-align: right;\n",
       "    }\n",
       "</style>\n",
       "<table border=\"1\" class=\"dataframe\">\n",
       "  <thead>\n",
       "    <tr style=\"text-align: right;\">\n",
       "      <th></th>\n",
       "      <th>Number of Unique Items</th>\n",
       "      <th>Total Purchases</th>\n",
       "      <th>Average Price</th>\n",
       "      <th>Total Revenue</th>\n",
       "    </tr>\n",
       "  </thead>\n",
       "  <tbody>\n",
       "    <tr>\n",
       "      <th>0</th>\n",
       "      <td>179</td>\n",
       "      <td>780</td>\n",
       "      <td>$3.05</td>\n",
       "      <td>$2,379.77</td>\n",
       "    </tr>\n",
       "  </tbody>\n",
       "</table>\n",
       "</div>"
      ],
      "text/plain": [
       "  Number of Unique Items Total Purchases Average Price Total Revenue\n",
       "0                    179             780         $3.05     $2,379.77"
      ]
     },
     "execution_count": 3,
     "metadata": {},
     "output_type": "execute_result"
    }
   ],
   "source": [
    "\n",
    "#calculate the unique number of items purchased\n",
    "unique_items = purchase_data[\"Item ID\"].unique()\n",
    "\n",
    "#calculate the avg price of purchases\n",
    "avg_price = purchase_data[\"Price\"].mean()\n",
    "\n",
    "#calculate the total amount spent\n",
    "total_price = purchase_data[\"Price\"].sum()\n",
    "\n",
    "#caluclate the avg age of purchasers\n",
    "avg_age = purchase_data[\"Age\"].mean()\n",
    "\n",
    "#set the proper formatting\n",
    "format_price = \"${:.2f}\".format(avg_price)\n",
    "format_total_price = \"${:,.2f}\".format(total_price)\n",
    "format_age = \"{:.1f}\".format(avg_age)\n",
    "\n",
    "#create the dataframe for output\n",
    "sum_df = pd.DataFrame(\n",
    "    {\"Number of Unique Items\":[str(len(unique_items))],\n",
    "     \"Total Purchases\": [str(total)],\n",
    "     \"Average Price\": [format_price],\n",
    "     \"Total Revenue\": [format_total_price]\n",
    "     })\n",
    "\n",
    "#output\n",
    "sum_df\n",
    "\n",
    "\n"
   ]
  },
  {
   "cell_type": "markdown",
   "metadata": {},
   "source": [
    "\n",
    "## Gender Demographics"
   ]
  },
  {
   "cell_type": "markdown",
   "metadata": {},
   "source": [
    "* Percentage and Count of Male Players\n",
    "\n",
    "\n",
    "* Percentage and Count of Female Players\n",
    "\n",
    "\n",
    "* Percentage and Count of Other / Non-Disclosed\n",
    "\n",
    "\n"
   ]
  },
  {
   "cell_type": "code",
   "execution_count": 4,
   "metadata": {},
   "outputs": [
    {
     "data": {
      "text/html": [
       "<div>\n",
       "<style scoped>\n",
       "    .dataframe tbody tr th:only-of-type {\n",
       "        vertical-align: middle;\n",
       "    }\n",
       "\n",
       "    .dataframe tbody tr th {\n",
       "        vertical-align: top;\n",
       "    }\n",
       "\n",
       "    .dataframe thead th {\n",
       "        text-align: right;\n",
       "    }\n",
       "</style>\n",
       "<table border=\"1\" class=\"dataframe\">\n",
       "  <thead>\n",
       "    <tr style=\"text-align: right;\">\n",
       "      <th></th>\n",
       "      <th>0</th>\n",
       "      <th>1</th>\n",
       "    </tr>\n",
       "  </thead>\n",
       "  <tbody>\n",
       "    <tr>\n",
       "      <th></th>\n",
       "      <td>Total Count</td>\n",
       "      <td>Percentage of Players</td>\n",
       "    </tr>\n",
       "    <tr>\n",
       "      <th>Male</th>\n",
       "      <td>484</td>\n",
       "      <td>84.03%</td>\n",
       "    </tr>\n",
       "    <tr>\n",
       "      <th>Female</th>\n",
       "      <td>81</td>\n",
       "      <td>14.06%</td>\n",
       "    </tr>\n",
       "    <tr>\n",
       "      <th>Other / Non-Disclosed</th>\n",
       "      <td>11</td>\n",
       "      <td>1.91%</td>\n",
       "    </tr>\n",
       "  </tbody>\n",
       "</table>\n",
       "</div>"
      ],
      "text/plain": [
       "                                 0                      1\n",
       "                       Total Count  Percentage of Players\n",
       "Male                           484                 84.03%\n",
       "Female                          81                 14.06%\n",
       "Other / Non-Disclosed           11                  1.91%"
      ]
     },
     "execution_count": 4,
     "metadata": {},
     "output_type": "execute_result"
    }
   ],
   "source": [
    "\n",
    "#create a subset with unique users\n",
    "unique_users = purchase_data.drop_duplicates(subset=['SN'])\n",
    "\n",
    "#count the number of people in each gender category\n",
    "Gender = unique_users[\"Gender\"].value_counts()\n",
    "\n",
    "#assign vars to the gender counts\n",
    "male_num = Gender[0]\n",
    "fem_num = Gender[1]\n",
    "nonBi_num = Gender[2]\n",
    "Gtotal=male_num +fem_num + nonBi_num\n",
    "\n",
    "#calculate percentages for the genders\n",
    "male_per = (male_num/Gtotal)*100\n",
    "fem_per = (fem_num/Gtotal)*100\n",
    "nonBi_per = (nonBi_num/Gtotal)*100\n",
    "\n",
    "#set the proper formattting\n",
    "male_per = \"{:.2f}%\".format(male_per)\n",
    "fem_per = \"{:.2f}%\".format(fem_per)\n",
    "nonBi_per = \"{:.2f}%\".format(nonBi_per)\n",
    "\n",
    "\n",
    "\n",
    "\n",
    "# create a dictionary with list object in values \n",
    "gender_info = { \n",
    "    ' ': [\"Total Count\",\"Percentage of Players\"],\n",
    "    'Male' : [str(male_num), str(male_per)], \n",
    "    'Female' : [str(fem_num), str(fem_per)], \n",
    "    'Other / Non-Disclosed' : [str(nonBi_num), str(nonBi_per)], \n",
    "} \n",
    "  \n",
    "# create a dataframe \n",
    "df = pd.DataFrame.from_dict(gender_info, orient = 'index') \n",
    "\n",
    "\n",
    "#output    \n",
    "df\n",
    "\n",
    "\n",
    "\n"
   ]
  },
  {
   "cell_type": "code",
   "execution_count": null,
   "metadata": {},
   "outputs": [],
   "source": []
  },
  {
   "cell_type": "markdown",
   "metadata": {},
   "source": [
    "\n",
    "## Purchasing Analysis (Gender)"
   ]
  },
  {
   "cell_type": "code",
   "execution_count": null,
   "metadata": {},
   "outputs": [],
   "source": []
  },
  {
   "cell_type": "code",
   "execution_count": 5,
   "metadata": {},
   "outputs": [
    {
     "data": {
      "text/html": [
       "<style  type=\"text/css\" >\n",
       "</style><table id=\"T_dd00ccb6_08b8_11eb_9fb3_acde48001122\" ><thead>    <tr>        <th class=\"blank level0\" ></th>        <th class=\"col_heading level0 col0\" >Purchase Count</th>        <th class=\"col_heading level0 col1\" >Average Purchase Price</th>        <th class=\"col_heading level0 col2\" >Total Purchase Value</th>        <th class=\"col_heading level0 col3\" >Avg Total Purchase per Person</th>    </tr>    <tr>        <th class=\"index_name level0\" >Gender</th>        <th class=\"blank\" ></th>        <th class=\"blank\" ></th>        <th class=\"blank\" ></th>        <th class=\"blank\" ></th>    </tr></thead><tbody>\n",
       "                <tr>\n",
       "                        <th id=\"T_dd00ccb6_08b8_11eb_9fb3_acde48001122level0_row0\" class=\"row_heading level0 row0\" >Female</th>\n",
       "                        <td id=\"T_dd00ccb6_08b8_11eb_9fb3_acde48001122row0_col0\" class=\"data row0 col0\" >113</td>\n",
       "                        <td id=\"T_dd00ccb6_08b8_11eb_9fb3_acde48001122row0_col1\" class=\"data row0 col1\" >$3.20</td>\n",
       "                        <td id=\"T_dd00ccb6_08b8_11eb_9fb3_acde48001122row0_col2\" class=\"data row0 col2\" >$361.94</td>\n",
       "                        <td id=\"T_dd00ccb6_08b8_11eb_9fb3_acde48001122row0_col3\" class=\"data row0 col3\" >$4.47</td>\n",
       "            </tr>\n",
       "            <tr>\n",
       "                        <th id=\"T_dd00ccb6_08b8_11eb_9fb3_acde48001122level0_row1\" class=\"row_heading level0 row1\" >Male</th>\n",
       "                        <td id=\"T_dd00ccb6_08b8_11eb_9fb3_acde48001122row1_col0\" class=\"data row1 col0\" >652</td>\n",
       "                        <td id=\"T_dd00ccb6_08b8_11eb_9fb3_acde48001122row1_col1\" class=\"data row1 col1\" >$3.02</td>\n",
       "                        <td id=\"T_dd00ccb6_08b8_11eb_9fb3_acde48001122row1_col2\" class=\"data row1 col2\" >$1,967.64</td>\n",
       "                        <td id=\"T_dd00ccb6_08b8_11eb_9fb3_acde48001122row1_col3\" class=\"data row1 col3\" >$4.07</td>\n",
       "            </tr>\n",
       "            <tr>\n",
       "                        <th id=\"T_dd00ccb6_08b8_11eb_9fb3_acde48001122level0_row2\" class=\"row_heading level0 row2\" >Other / Non-Disclosed</th>\n",
       "                        <td id=\"T_dd00ccb6_08b8_11eb_9fb3_acde48001122row2_col0\" class=\"data row2 col0\" >15</td>\n",
       "                        <td id=\"T_dd00ccb6_08b8_11eb_9fb3_acde48001122row2_col1\" class=\"data row2 col1\" >$3.35</td>\n",
       "                        <td id=\"T_dd00ccb6_08b8_11eb_9fb3_acde48001122row2_col2\" class=\"data row2 col2\" >$50.19</td>\n",
       "                        <td id=\"T_dd00ccb6_08b8_11eb_9fb3_acde48001122row2_col3\" class=\"data row2 col3\" >$4.56</td>\n",
       "            </tr>\n",
       "    </tbody></table>"
      ],
      "text/plain": [
       "<pandas.io.formats.style.Styler at 0x7face3c6ef28>"
      ]
     },
     "execution_count": 5,
     "metadata": {},
     "output_type": "execute_result"
    }
   ],
   "source": [
    "\n",
    "# Use GroupBy to separate the data into fields according to \"Gender\" values\n",
    "grouped_df = purchase_data.groupby(['Gender'])\n",
    "\n",
    "\n",
    "#count purchasers\n",
    "g_count = grouped_df[\"SN\"].count()\n",
    "\n",
    "#calculate total price\n",
    "g_price = grouped_df[\"Price\"].sum()\n",
    "\n",
    "#calculate average price\n",
    "g_avg = g_price / grouped_df[\"SN\"].count()\n",
    "\n",
    "#calcualte total purchase per person\n",
    "g_pur = g_price / unique_users[\"Gender\"].value_counts()\n",
    "\n",
    "#set dictionary for proper formatting\n",
    "format_dict = {'Average Purchase Price':'${:.2f}', 'Total Purchase Value': '${:,.2f}', 'Avg Total Purchase per Person': '${:.2f}'}\n",
    "\n",
    "#create dataframe for output\n",
    "pa_gen_df = pd.DataFrame({\"Purchase Count\":g_count,\n",
    "                                \"Average Purchase Price\": g_avg, \n",
    "                                    \"Total Purchase Value\": g_price,\n",
    "                                    \"Avg Total Purchase per Person\" :g_pur })\n",
    "\n",
    "#output df in proper format\n",
    "pa_gen_df.style.format(format_dict)\n",
    "\n",
    "\n"
   ]
  },
  {
   "cell_type": "code",
   "execution_count": 6,
   "metadata": {},
   "outputs": [],
   "source": []
  },
  {
   "cell_type": "markdown",
   "metadata": {},
   "source": [
    "* Run basic calculations to obtain purchase count, avg. purchase price, avg. purchase total per person etc. by gender\n",
    "\n",
    "\n",
    "\n",
    "\n",
    "* Create a summary data frame to hold the results\n",
    "\n",
    "\n",
    "* Optional: give the displayed data cleaner formatting\n",
    "\n",
    "\n",
    "* Display the summary data frame"
   ]
  },
  {
   "cell_type": "code",
   "execution_count": 7,
   "metadata": {},
   "outputs": [],
   "source": []
  },
  {
   "cell_type": "code",
   "execution_count": 8,
   "metadata": {},
   "outputs": [],
   "source": []
  },
  {
   "cell_type": "code",
   "execution_count": null,
   "metadata": {},
   "outputs": [],
   "source": []
  },
  {
   "cell_type": "markdown",
   "metadata": {},
   "source": [
    "## Age Demographics"
   ]
  },
  {
   "cell_type": "markdown",
   "metadata": {},
   "source": [
    "* Establish bins for ages\n",
    "\n",
    "\n",
    "* Categorize the existing players using the age bins. Hint: use pd.cut()\n",
    "\n",
    "\n",
    "* Calculate the numbers and percentages by age group\n",
    "\n",
    "\n",
    "* Create a summary data frame to hold the results\n",
    "\n",
    "\n",
    "* Optional: round the percentage column to two decimal points\n",
    "\n",
    "\n",
    "* Display Age Demographics Table\n"
   ]
  },
  {
   "cell_type": "code",
   "execution_count": 13,
   "metadata": {},
   "outputs": [
    {
     "name": "stderr",
     "output_type": "stream",
     "text": [
      "/Users/coryarussell/opt/anaconda3/envs/PythonData/lib/python3.6/site-packages/ipykernel_launcher.py:14: SettingWithCopyWarning: \n",
      "A value is trying to be set on a copy of a slice from a DataFrame.\n",
      "Try using .loc[row_indexer,col_indexer] = value instead\n",
      "\n",
      "See the caveats in the documentation: https://pandas.pydata.org/pandas-docs/stable/user_guide/indexing.html#returning-a-view-versus-a-copy\n",
      "  \n"
     ]
    },
    {
     "data": {
      "text/html": [
       "<style  type=\"text/css\" >\n",
       "</style><table id=\"T_bad8e802_08b9_11eb_a8dc_acde48001122\" ><thead>    <tr>        <th class=\"blank level0\" ></th>        <th class=\"col_heading level0 col0\" >Total Count</th>        <th class=\"col_heading level0 col1\" >Percentage of Players</th>    </tr>    <tr>        <th class=\"index_name level0\" >Age Group</th>        <th class=\"blank\" ></th>        <th class=\"blank\" ></th>    </tr></thead><tbody>\n",
       "                <tr>\n",
       "                        <th id=\"T_bad8e802_08b9_11eb_a8dc_acde48001122level0_row0\" class=\"row_heading level0 row0\" ><10</th>\n",
       "                        <td id=\"T_bad8e802_08b9_11eb_a8dc_acde48001122row0_col0\" class=\"data row0 col0\" >17</td>\n",
       "                        <td id=\"T_bad8e802_08b9_11eb_a8dc_acde48001122row0_col1\" class=\"data row0 col1\" >2.95%</td>\n",
       "            </tr>\n",
       "            <tr>\n",
       "                        <th id=\"T_bad8e802_08b9_11eb_a8dc_acde48001122level0_row1\" class=\"row_heading level0 row1\" >10-14</th>\n",
       "                        <td id=\"T_bad8e802_08b9_11eb_a8dc_acde48001122row1_col0\" class=\"data row1 col0\" >22</td>\n",
       "                        <td id=\"T_bad8e802_08b9_11eb_a8dc_acde48001122row1_col1\" class=\"data row1 col1\" >3.82%</td>\n",
       "            </tr>\n",
       "            <tr>\n",
       "                        <th id=\"T_bad8e802_08b9_11eb_a8dc_acde48001122level0_row2\" class=\"row_heading level0 row2\" >15-19</th>\n",
       "                        <td id=\"T_bad8e802_08b9_11eb_a8dc_acde48001122row2_col0\" class=\"data row2 col0\" >107</td>\n",
       "                        <td id=\"T_bad8e802_08b9_11eb_a8dc_acde48001122row2_col1\" class=\"data row2 col1\" >18.58%</td>\n",
       "            </tr>\n",
       "            <tr>\n",
       "                        <th id=\"T_bad8e802_08b9_11eb_a8dc_acde48001122level0_row3\" class=\"row_heading level0 row3\" >20-24</th>\n",
       "                        <td id=\"T_bad8e802_08b9_11eb_a8dc_acde48001122row3_col0\" class=\"data row3 col0\" >258</td>\n",
       "                        <td id=\"T_bad8e802_08b9_11eb_a8dc_acde48001122row3_col1\" class=\"data row3 col1\" >44.79%</td>\n",
       "            </tr>\n",
       "            <tr>\n",
       "                        <th id=\"T_bad8e802_08b9_11eb_a8dc_acde48001122level0_row4\" class=\"row_heading level0 row4\" >25-29</th>\n",
       "                        <td id=\"T_bad8e802_08b9_11eb_a8dc_acde48001122row4_col0\" class=\"data row4 col0\" >77</td>\n",
       "                        <td id=\"T_bad8e802_08b9_11eb_a8dc_acde48001122row4_col1\" class=\"data row4 col1\" >13.37%</td>\n",
       "            </tr>\n",
       "            <tr>\n",
       "                        <th id=\"T_bad8e802_08b9_11eb_a8dc_acde48001122level0_row5\" class=\"row_heading level0 row5\" >30-34</th>\n",
       "                        <td id=\"T_bad8e802_08b9_11eb_a8dc_acde48001122row5_col0\" class=\"data row5 col0\" >52</td>\n",
       "                        <td id=\"T_bad8e802_08b9_11eb_a8dc_acde48001122row5_col1\" class=\"data row5 col1\" >9.03%</td>\n",
       "            </tr>\n",
       "            <tr>\n",
       "                        <th id=\"T_bad8e802_08b9_11eb_a8dc_acde48001122level0_row6\" class=\"row_heading level0 row6\" >35-39</th>\n",
       "                        <td id=\"T_bad8e802_08b9_11eb_a8dc_acde48001122row6_col0\" class=\"data row6 col0\" >31</td>\n",
       "                        <td id=\"T_bad8e802_08b9_11eb_a8dc_acde48001122row6_col1\" class=\"data row6 col1\" >5.38%</td>\n",
       "            </tr>\n",
       "            <tr>\n",
       "                        <th id=\"T_bad8e802_08b9_11eb_a8dc_acde48001122level0_row7\" class=\"row_heading level0 row7\" >40+</th>\n",
       "                        <td id=\"T_bad8e802_08b9_11eb_a8dc_acde48001122row7_col0\" class=\"data row7 col0\" >12</td>\n",
       "                        <td id=\"T_bad8e802_08b9_11eb_a8dc_acde48001122row7_col1\" class=\"data row7 col1\" >2.08%</td>\n",
       "            </tr>\n",
       "    </tbody></table>"
      ],
      "text/plain": [
       "<pandas.io.formats.style.Styler at 0x7face3b26a90>"
      ]
     },
     "metadata": {},
     "output_type": "display_data"
    }
   ],
   "source": [
    "#calculate maximum age to set proper bin size\n",
    "max_age = purchase_data['Age'].max()\n",
    "\n",
    "\n",
    "# Create the bins in which Data will be held\n",
    "# Bins are 0, 9.5, 14.5, 19.5, 24.5, 29.5,34.5,39.5,max_age\n",
    "bins = [0, 9.5, 14.5, 19.5, 24.5, 29.5,34.5,39.5,max_age]\n",
    "\n",
    "\n",
    "# Create the names for the eight bins\n",
    "group_names = [\"<10\", \"10-14\", \"15-19\", \"20-24\", \"25-29\",\"30-34\",\"35-39\",\"40+\"]\n",
    "\n",
    "#put data into bins\n",
    "unique_users[\"Age Group\"] = pd.cut(unique_users[\"Age\"], bins, labels=group_names, include_lowest=True)\n",
    "\n",
    "\n",
    "# Creating a group based off of the bins\n",
    "groups_data = unique_users.groupby([\"Age Group\"])\n",
    "\n",
    "#count the number of people per bin\n",
    "groups_count=groups_data.count()\n",
    "\n",
    "#rename the first column\n",
    "groups_count = groups_count.rename(columns={'Purchase ID': 'Total Count'})\n",
    "\n",
    "#calculate the percentage of players per bin\n",
    "groups_count[\"Percentage of Players\"]=(groups_count[\"Total Count\"]/num_players)*100\n",
    "\n",
    "#create df for output\n",
    "age_demo = groups_count[[\"Total Count\",\"Percentage of Players\"]]\n",
    "\n",
    "#set style\n",
    "display_style = age_demo.style.format({'Percentage of Players' : \"{:.2f}%\"})\n",
    "\n",
    "#output data\n",
    "display(display_style)\n",
    "\n"
   ]
  },
  {
   "cell_type": "code",
   "execution_count": null,
   "metadata": {},
   "outputs": [],
   "source": []
  },
  {
   "cell_type": "markdown",
   "metadata": {},
   "source": [
    "## Purchasing Analysis (Age)"
   ]
  },
  {
   "cell_type": "markdown",
   "metadata": {},
   "source": [
    "* Bin the purchase_data data frame by age\n",
    "\n",
    "\n",
    "* Run basic calculations to obtain purchase count, avg. purchase price, avg. purchase total per person etc. in the table below\n",
    "\n",
    "\n",
    "* Create a summary data frame to hold the results\n",
    "\n",
    "\n",
    "* Optional: give the displayed data cleaner formatting\n",
    "\n",
    "\n",
    "* Display the summary data frame"
   ]
  },
  {
   "cell_type": "code",
   "execution_count": 19,
   "metadata": {},
   "outputs": [
    {
     "data": {
      "text/html": [
       "<style  type=\"text/css\" >\n",
       "</style><table id=\"T_539a1806_08bf_11eb_9cd8_acde48001122\" ><thead>    <tr>        <th class=\"blank level0\" ></th>        <th class=\"col_heading level0 col0\" >Purchase Count</th>        <th class=\"col_heading level0 col1\" >Average Purchase Price</th>        <th class=\"col_heading level0 col2\" >Total Purchase Value</th>        <th class=\"col_heading level0 col3\" >Avg Total Purchase per Person</th>    </tr>    <tr>        <th class=\"index_name level0\" >Age Group</th>        <th class=\"blank\" ></th>        <th class=\"blank\" ></th>        <th class=\"blank\" ></th>        <th class=\"blank\" ></th>    </tr></thead><tbody>\n",
       "                <tr>\n",
       "                        <th id=\"T_539a1806_08bf_11eb_9cd8_acde48001122level0_row0\" class=\"row_heading level0 row0\" ><10</th>\n",
       "                        <td id=\"T_539a1806_08bf_11eb_9cd8_acde48001122row0_col0\" class=\"data row0 col0\" >23</td>\n",
       "                        <td id=\"T_539a1806_08bf_11eb_9cd8_acde48001122row0_col1\" class=\"data row0 col1\" >$3.35</td>\n",
       "                        <td id=\"T_539a1806_08bf_11eb_9cd8_acde48001122row0_col2\" class=\"data row0 col2\" >$77.13</td>\n",
       "                        <td id=\"T_539a1806_08bf_11eb_9cd8_acde48001122row0_col3\" class=\"data row0 col3\" >$4.54</td>\n",
       "            </tr>\n",
       "            <tr>\n",
       "                        <th id=\"T_539a1806_08bf_11eb_9cd8_acde48001122level0_row1\" class=\"row_heading level0 row1\" >10-14</th>\n",
       "                        <td id=\"T_539a1806_08bf_11eb_9cd8_acde48001122row1_col0\" class=\"data row1 col0\" >28</td>\n",
       "                        <td id=\"T_539a1806_08bf_11eb_9cd8_acde48001122row1_col1\" class=\"data row1 col1\" >$2.96</td>\n",
       "                        <td id=\"T_539a1806_08bf_11eb_9cd8_acde48001122row1_col2\" class=\"data row1 col2\" >$82.78</td>\n",
       "                        <td id=\"T_539a1806_08bf_11eb_9cd8_acde48001122row1_col3\" class=\"data row1 col3\" >$3.76</td>\n",
       "            </tr>\n",
       "            <tr>\n",
       "                        <th id=\"T_539a1806_08bf_11eb_9cd8_acde48001122level0_row2\" class=\"row_heading level0 row2\" >15-19</th>\n",
       "                        <td id=\"T_539a1806_08bf_11eb_9cd8_acde48001122row2_col0\" class=\"data row2 col0\" >136</td>\n",
       "                        <td id=\"T_539a1806_08bf_11eb_9cd8_acde48001122row2_col1\" class=\"data row2 col1\" >$3.04</td>\n",
       "                        <td id=\"T_539a1806_08bf_11eb_9cd8_acde48001122row2_col2\" class=\"data row2 col2\" >$412.89</td>\n",
       "                        <td id=\"T_539a1806_08bf_11eb_9cd8_acde48001122row2_col3\" class=\"data row2 col3\" >$3.86</td>\n",
       "            </tr>\n",
       "            <tr>\n",
       "                        <th id=\"T_539a1806_08bf_11eb_9cd8_acde48001122level0_row3\" class=\"row_heading level0 row3\" >20-24</th>\n",
       "                        <td id=\"T_539a1806_08bf_11eb_9cd8_acde48001122row3_col0\" class=\"data row3 col0\" >365</td>\n",
       "                        <td id=\"T_539a1806_08bf_11eb_9cd8_acde48001122row3_col1\" class=\"data row3 col1\" >$3.05</td>\n",
       "                        <td id=\"T_539a1806_08bf_11eb_9cd8_acde48001122row3_col2\" class=\"data row3 col2\" >$1,114.06</td>\n",
       "                        <td id=\"T_539a1806_08bf_11eb_9cd8_acde48001122row3_col3\" class=\"data row3 col3\" >$4.32</td>\n",
       "            </tr>\n",
       "            <tr>\n",
       "                        <th id=\"T_539a1806_08bf_11eb_9cd8_acde48001122level0_row4\" class=\"row_heading level0 row4\" >25-29</th>\n",
       "                        <td id=\"T_539a1806_08bf_11eb_9cd8_acde48001122row4_col0\" class=\"data row4 col0\" >101</td>\n",
       "                        <td id=\"T_539a1806_08bf_11eb_9cd8_acde48001122row4_col1\" class=\"data row4 col1\" >$2.90</td>\n",
       "                        <td id=\"T_539a1806_08bf_11eb_9cd8_acde48001122row4_col2\" class=\"data row4 col2\" >$293.00</td>\n",
       "                        <td id=\"T_539a1806_08bf_11eb_9cd8_acde48001122row4_col3\" class=\"data row4 col3\" >$3.81</td>\n",
       "            </tr>\n",
       "            <tr>\n",
       "                        <th id=\"T_539a1806_08bf_11eb_9cd8_acde48001122level0_row5\" class=\"row_heading level0 row5\" >30-34</th>\n",
       "                        <td id=\"T_539a1806_08bf_11eb_9cd8_acde48001122row5_col0\" class=\"data row5 col0\" >73</td>\n",
       "                        <td id=\"T_539a1806_08bf_11eb_9cd8_acde48001122row5_col1\" class=\"data row5 col1\" >$2.93</td>\n",
       "                        <td id=\"T_539a1806_08bf_11eb_9cd8_acde48001122row5_col2\" class=\"data row5 col2\" >$214.00</td>\n",
       "                        <td id=\"T_539a1806_08bf_11eb_9cd8_acde48001122row5_col3\" class=\"data row5 col3\" >$4.12</td>\n",
       "            </tr>\n",
       "            <tr>\n",
       "                        <th id=\"T_539a1806_08bf_11eb_9cd8_acde48001122level0_row6\" class=\"row_heading level0 row6\" >35-39</th>\n",
       "                        <td id=\"T_539a1806_08bf_11eb_9cd8_acde48001122row6_col0\" class=\"data row6 col0\" >41</td>\n",
       "                        <td id=\"T_539a1806_08bf_11eb_9cd8_acde48001122row6_col1\" class=\"data row6 col1\" >$3.60</td>\n",
       "                        <td id=\"T_539a1806_08bf_11eb_9cd8_acde48001122row6_col2\" class=\"data row6 col2\" >$147.67</td>\n",
       "                        <td id=\"T_539a1806_08bf_11eb_9cd8_acde48001122row6_col3\" class=\"data row6 col3\" >$4.76</td>\n",
       "            </tr>\n",
       "            <tr>\n",
       "                        <th id=\"T_539a1806_08bf_11eb_9cd8_acde48001122level0_row7\" class=\"row_heading level0 row7\" >40+</th>\n",
       "                        <td id=\"T_539a1806_08bf_11eb_9cd8_acde48001122row7_col0\" class=\"data row7 col0\" >13</td>\n",
       "                        <td id=\"T_539a1806_08bf_11eb_9cd8_acde48001122row7_col1\" class=\"data row7 col1\" >$2.94</td>\n",
       "                        <td id=\"T_539a1806_08bf_11eb_9cd8_acde48001122row7_col2\" class=\"data row7 col2\" >$38.24</td>\n",
       "                        <td id=\"T_539a1806_08bf_11eb_9cd8_acde48001122row7_col3\" class=\"data row7 col3\" >$3.19</td>\n",
       "            </tr>\n",
       "    </tbody></table>"
      ],
      "text/plain": [
       "<pandas.io.formats.style.Styler at 0x7face2a773c8>"
      ]
     },
     "execution_count": 19,
     "metadata": {},
     "output_type": "execute_result"
    }
   ],
   "source": [
    "#calculate maximum age to set proper bin size\n",
    "max_age = purchase_data['Age'].max()\n",
    "\n",
    "# Create the bins in which Data will be held\n",
    "# Bins are 0, 9.5, 14.5, 19.5, 24.5, 29.5,34.5,39.5,max_age\n",
    "bins = [0, 9.5, 14.5, 19.5, 24.5, 29.5,34.5,39.5,max_age]\n",
    "\n",
    "# Create the names for the eight bins\n",
    "age_group_names = [\"<10\", \"10-14\", \"15-19\", \"20-24\", \"25-29\",\"30-34\",\"35-39\",\"40+\"]\n",
    "\n",
    "# cut the dataframe into bins\n",
    "purchase_data[\"Age Group\"] = pd.cut(purchase_data[\"Age\"], bins, labels=group_names, include_lowest=True)\n",
    "\n",
    "# Creating a group based off of the bins\n",
    "age_groups_data = purchase_data.groupby([\"Age Group\"])\n",
    "\n",
    "#calculate the total purchase value\n",
    "total_pur = age_groups_data[\"Price\"].sum()\n",
    "\n",
    "#calculate the avg purchase price\n",
    "avg_pur = total_pur / age_groups_data[\"Purchase ID\"].count()\n",
    "\n",
    "#calculate the purchase count\n",
    "p_count = age_groups_data[\"Purchase ID\"].count()\n",
    "\n",
    "#calculate the total purchase per person\n",
    "avg_pur_per = total_pur / age_demo[\"Total Count\"]\n",
    "\n",
    "#set dictionary for proper formatting\n",
    "format_dict = {'Average Purchase Price':'${:.2f}', 'Total Purchase Value': '${:,.2f}', 'Avg Total Purchase per Person': '${:.2f}'}\n",
    "\n",
    "\n",
    "# Creating a new DataFrame using both duration and count\n",
    "summary_df = pd.DataFrame({\"Purchase Count\":p_count,\n",
    "                                \"Average Purchase Price\": avg_pur,\n",
    "                                    \"Total Purchase Value\": total_pur,\n",
    "                                    \"Avg Total Purchase per Person\" :avg_pur_per })\n",
    "\n",
    "#output df in proper format\n",
    "summary_df.style.format(format_dict)\n"
   ]
  },
  {
   "cell_type": "markdown",
   "metadata": {},
   "source": [
    "## Top Spenders"
   ]
  },
  {
   "cell_type": "markdown",
   "metadata": {},
   "source": [
    "* Run basic calculations to obtain the results in the table below\n",
    "\n",
    "\n",
    "* Create a summary data frame to hold the results\n",
    "\n",
    "\n",
    "* Sort the total purchase value column in descending order\n",
    "\n",
    "\n",
    "* Optional: give the displayed data cleaner formatting\n",
    "\n",
    "\n",
    "* Display a preview of the summary data frame\n",
    "\n"
   ]
  },
  {
   "cell_type": "code",
   "execution_count": 25,
   "metadata": {},
   "outputs": [
    {
     "data": {
      "text/html": [
       "<style  type=\"text/css\" >\n",
       "</style><table id=\"T_3bfda1c6_08c0_11eb_b8ce_acde48001122\" ><thead>    <tr>        <th class=\"blank level0\" ></th>        <th class=\"col_heading level0 col0\" >Purchase Count</th>        <th class=\"col_heading level0 col1\" >Average Purchase Price</th>        <th class=\"col_heading level0 col2\" >Total Purchase Value</th>    </tr>    <tr>        <th class=\"index_name level0\" >SN</th>        <th class=\"blank\" ></th>        <th class=\"blank\" ></th>        <th class=\"blank\" ></th>    </tr></thead><tbody>\n",
       "                <tr>\n",
       "                        <th id=\"T_3bfda1c6_08c0_11eb_b8ce_acde48001122level0_row0\" class=\"row_heading level0 row0\" >Lisosia93</th>\n",
       "                        <td id=\"T_3bfda1c6_08c0_11eb_b8ce_acde48001122row0_col0\" class=\"data row0 col0\" >5</td>\n",
       "                        <td id=\"T_3bfda1c6_08c0_11eb_b8ce_acde48001122row0_col1\" class=\"data row0 col1\" >$3.79</td>\n",
       "                        <td id=\"T_3bfda1c6_08c0_11eb_b8ce_acde48001122row0_col2\" class=\"data row0 col2\" >$18.96</td>\n",
       "            </tr>\n",
       "            <tr>\n",
       "                        <th id=\"T_3bfda1c6_08c0_11eb_b8ce_acde48001122level0_row1\" class=\"row_heading level0 row1\" >Idastidru52</th>\n",
       "                        <td id=\"T_3bfda1c6_08c0_11eb_b8ce_acde48001122row1_col0\" class=\"data row1 col0\" >4</td>\n",
       "                        <td id=\"T_3bfda1c6_08c0_11eb_b8ce_acde48001122row1_col1\" class=\"data row1 col1\" >$3.86</td>\n",
       "                        <td id=\"T_3bfda1c6_08c0_11eb_b8ce_acde48001122row1_col2\" class=\"data row1 col2\" >$15.45</td>\n",
       "            </tr>\n",
       "            <tr>\n",
       "                        <th id=\"T_3bfda1c6_08c0_11eb_b8ce_acde48001122level0_row2\" class=\"row_heading level0 row2\" >Chamjask73</th>\n",
       "                        <td id=\"T_3bfda1c6_08c0_11eb_b8ce_acde48001122row2_col0\" class=\"data row2 col0\" >3</td>\n",
       "                        <td id=\"T_3bfda1c6_08c0_11eb_b8ce_acde48001122row2_col1\" class=\"data row2 col1\" >$4.61</td>\n",
       "                        <td id=\"T_3bfda1c6_08c0_11eb_b8ce_acde48001122row2_col2\" class=\"data row2 col2\" >$13.83</td>\n",
       "            </tr>\n",
       "            <tr>\n",
       "                        <th id=\"T_3bfda1c6_08c0_11eb_b8ce_acde48001122level0_row3\" class=\"row_heading level0 row3\" >Iral74</th>\n",
       "                        <td id=\"T_3bfda1c6_08c0_11eb_b8ce_acde48001122row3_col0\" class=\"data row3 col0\" >4</td>\n",
       "                        <td id=\"T_3bfda1c6_08c0_11eb_b8ce_acde48001122row3_col1\" class=\"data row3 col1\" >$3.40</td>\n",
       "                        <td id=\"T_3bfda1c6_08c0_11eb_b8ce_acde48001122row3_col2\" class=\"data row3 col2\" >$13.62</td>\n",
       "            </tr>\n",
       "            <tr>\n",
       "                        <th id=\"T_3bfda1c6_08c0_11eb_b8ce_acde48001122level0_row4\" class=\"row_heading level0 row4\" >Iskadarya95</th>\n",
       "                        <td id=\"T_3bfda1c6_08c0_11eb_b8ce_acde48001122row4_col0\" class=\"data row4 col0\" >3</td>\n",
       "                        <td id=\"T_3bfda1c6_08c0_11eb_b8ce_acde48001122row4_col1\" class=\"data row4 col1\" >$4.37</td>\n",
       "                        <td id=\"T_3bfda1c6_08c0_11eb_b8ce_acde48001122row4_col2\" class=\"data row4 col2\" >$13.10</td>\n",
       "            </tr>\n",
       "    </tbody></table>"
      ],
      "text/plain": [
       "<pandas.io.formats.style.Styler at 0x7face54e4eb8>"
      ]
     },
     "execution_count": 25,
     "metadata": {},
     "output_type": "execute_result"
    }
   ],
   "source": [
    "\n",
    "#set the var for calculating counts\n",
    "spender_data = purchase_data.groupby([\"SN\"])\n",
    "\n",
    "#count the users\n",
    "purchase_num=spender_data[\"SN\"].count()\n",
    "\n",
    "#calculate the total spent\n",
    "spent=spender_data[\"Price\"].sum()\n",
    "\n",
    "#calculate the avg spent\n",
    "avg_spent=spent/purchase_num\n",
    "\n",
    "#create dataframe for Top Spenders\n",
    "spender_df = pd.DataFrame({\"Purchase Count\":purchase_num,\n",
    "                           \"Average Purchase Price\":avg_spent,\n",
    "                                    \"Total Purchase Value\": spent })\n",
    "\n",
    "\n",
    "# sort Top spenders from highest to lowest purchase value\n",
    "spender_df = spender_df.sort_values(\"Total Purchase Value\", ascending=False)\n",
    "\n",
    "#set dictionary for proper formatting\n",
    "format_dict = {'Average Purchase Price':'${:.2f}', 'Total Purchase Value': '${:,.2f}', 'Avg Total Purchase per Person': '${:.2f}'}\n",
    "\n",
    "#output df in proper format\n",
    "spender_df.head().style.format(format_dict)\n",
    "\n"
   ]
  },
  {
   "cell_type": "markdown",
   "metadata": {},
   "source": [
    "## Most Popular Items"
   ]
  },
  {
   "cell_type": "markdown",
   "metadata": {},
   "source": [
    "* Retrieve the Item ID, Item Name, and Item Price columns\n",
    "\n",
    "\n",
    "* Group by Item ID and Item Name. Perform calculations to obtain purchase count, average item price, and total purchase value\n",
    "\n",
    "\n",
    "* Create a summary data frame to hold the results\n",
    "\n",
    "\n",
    "* Sort the purchase count column in descending order\n",
    "\n",
    "\n",
    "* Optional: give the displayed data cleaner formatting\n",
    "\n",
    "\n",
    "* Display a preview of the summary data frame\n",
    "\n"
   ]
  },
  {
   "cell_type": "code",
   "execution_count": 30,
   "metadata": {},
   "outputs": [
    {
     "data": {
      "text/html": [
       "<style  type=\"text/css\" >\n",
       "</style><table id=\"T_12d09bac_08c1_11eb_b626_acde48001122\" ><thead>    <tr>        <th class=\"blank\" ></th>        <th class=\"blank level0\" ></th>        <th class=\"col_heading level0 col0\" >Purchase Count</th>        <th class=\"col_heading level0 col1\" >Item Price</th>        <th class=\"col_heading level0 col2\" >Total Purchase Value</th>    </tr>    <tr>        <th class=\"index_name level0\" >Item ID</th>        <th class=\"index_name level1\" >Item Name</th>        <th class=\"blank\" ></th>        <th class=\"blank\" ></th>        <th class=\"blank\" ></th>    </tr></thead><tbody>\n",
       "                <tr>\n",
       "                        <th id=\"T_12d09bac_08c1_11eb_b626_acde48001122level0_row0\" class=\"row_heading level0 row0\" >92</th>\n",
       "                        <th id=\"T_12d09bac_08c1_11eb_b626_acde48001122level1_row0\" class=\"row_heading level1 row0\" >Final Critic</th>\n",
       "                        <td id=\"T_12d09bac_08c1_11eb_b626_acde48001122row0_col0\" class=\"data row0 col0\" >13</td>\n",
       "                        <td id=\"T_12d09bac_08c1_11eb_b626_acde48001122row0_col1\" class=\"data row0 col1\" >$4.61</td>\n",
       "                        <td id=\"T_12d09bac_08c1_11eb_b626_acde48001122row0_col2\" class=\"data row0 col2\" >$59.99</td>\n",
       "            </tr>\n",
       "            <tr>\n",
       "                        <th id=\"T_12d09bac_08c1_11eb_b626_acde48001122level0_row1\" class=\"row_heading level0 row1\" >178</th>\n",
       "                        <th id=\"T_12d09bac_08c1_11eb_b626_acde48001122level1_row1\" class=\"row_heading level1 row1\" >Oathbreaker, Last Hope of the Breaking Storm</th>\n",
       "                        <td id=\"T_12d09bac_08c1_11eb_b626_acde48001122row1_col0\" class=\"data row1 col0\" >12</td>\n",
       "                        <td id=\"T_12d09bac_08c1_11eb_b626_acde48001122row1_col1\" class=\"data row1 col1\" >$4.23</td>\n",
       "                        <td id=\"T_12d09bac_08c1_11eb_b626_acde48001122row1_col2\" class=\"data row1 col2\" >$50.76</td>\n",
       "            </tr>\n",
       "            <tr>\n",
       "                        <th id=\"T_12d09bac_08c1_11eb_b626_acde48001122level0_row2\" class=\"row_heading level0 row2\" >145</th>\n",
       "                        <th id=\"T_12d09bac_08c1_11eb_b626_acde48001122level1_row2\" class=\"row_heading level1 row2\" >Fiery Glass Crusader</th>\n",
       "                        <td id=\"T_12d09bac_08c1_11eb_b626_acde48001122row2_col0\" class=\"data row2 col0\" >9</td>\n",
       "                        <td id=\"T_12d09bac_08c1_11eb_b626_acde48001122row2_col1\" class=\"data row2 col1\" >$4.58</td>\n",
       "                        <td id=\"T_12d09bac_08c1_11eb_b626_acde48001122row2_col2\" class=\"data row2 col2\" >$41.22</td>\n",
       "            </tr>\n",
       "            <tr>\n",
       "                        <th id=\"T_12d09bac_08c1_11eb_b626_acde48001122level0_row3\" class=\"row_heading level0 row3\" >132</th>\n",
       "                        <th id=\"T_12d09bac_08c1_11eb_b626_acde48001122level1_row3\" class=\"row_heading level1 row3\" >Persuasion</th>\n",
       "                        <td id=\"T_12d09bac_08c1_11eb_b626_acde48001122row3_col0\" class=\"data row3 col0\" >9</td>\n",
       "                        <td id=\"T_12d09bac_08c1_11eb_b626_acde48001122row3_col1\" class=\"data row3 col1\" >$3.22</td>\n",
       "                        <td id=\"T_12d09bac_08c1_11eb_b626_acde48001122row3_col2\" class=\"data row3 col2\" >$28.99</td>\n",
       "            </tr>\n",
       "            <tr>\n",
       "                        <th id=\"T_12d09bac_08c1_11eb_b626_acde48001122level0_row4\" class=\"row_heading level0 row4\" >108</th>\n",
       "                        <th id=\"T_12d09bac_08c1_11eb_b626_acde48001122level1_row4\" class=\"row_heading level1 row4\" >Extraction, Quickblade Of Trembling Hands</th>\n",
       "                        <td id=\"T_12d09bac_08c1_11eb_b626_acde48001122row4_col0\" class=\"data row4 col0\" >9</td>\n",
       "                        <td id=\"T_12d09bac_08c1_11eb_b626_acde48001122row4_col1\" class=\"data row4 col1\" >$3.53</td>\n",
       "                        <td id=\"T_12d09bac_08c1_11eb_b626_acde48001122row4_col2\" class=\"data row4 col2\" >$31.77</td>\n",
       "            </tr>\n",
       "    </tbody></table>"
      ],
      "text/plain": [
       "<pandas.io.formats.style.Styler at 0x7face4f912b0>"
      ]
     },
     "execution_count": 30,
     "metadata": {},
     "output_type": "execute_result"
    }
   ],
   "source": [
    "#create a subset dataframe\n",
    "popular_df=purchase_data[[\"Item ID\",\"Item Name\",\"Price\"]]\n",
    "\n",
    "#group data both by ID and Name\n",
    "grouped_popular = popular_df.groupby(['Item ID', 'Item Name'])\n",
    "\n",
    "#calculate total purchase value\n",
    "tot_price =grouped_popular[\"Price\"].sum()\n",
    "\n",
    "#count Items\n",
    "tot_count =grouped_popular[\"Item ID\"].count()\n",
    "\n",
    "#calculate item price\n",
    "item_price=tot_price/tot_count\n",
    "\n",
    "# Converting a GroupBy object into a DataFrame\n",
    "pop_output_df = pd.DataFrame({\"Purchase Count\":tot_count,\n",
    "                              \"Item Price\":item_price,\n",
    "                              \"Total Purchase Value\":tot_price })\n",
    "       \n",
    "#sort dataframe descending by Purchase Count\n",
    "pop_output_df=pop_output_df.sort_values(\"Purchase Count\",ascending=False)\n",
    "\n",
    "#set dictionary for proper formatting\n",
    "format_dict = {'Item Price':'${:.2f}', 'Total Purchase Value': '${:,.2f}'}\n",
    "\n",
    "#output df in proper format\n",
    "pop_output_df.head().style.format(format_dict)"
   ]
  },
  {
   "cell_type": "markdown",
   "metadata": {},
   "source": [
    "## Most Profitable Items"
   ]
  },
  {
   "cell_type": "markdown",
   "metadata": {},
   "source": [
    "* Sort the above table by total purchase value in descending order\n",
    "\n",
    "\n",
    "* Optional: give the displayed data cleaner formatting\n",
    "\n",
    "\n",
    "* Display a preview of the data frame\n",
    "\n"
   ]
  },
  {
   "cell_type": "code",
   "execution_count": 34,
   "metadata": {
    "scrolled": true
   },
   "outputs": [
    {
     "data": {
      "text/html": [
       "<style  type=\"text/css\" >\n",
       "</style><table id=\"T_48743c98_08c1_11eb_911b_acde48001122\" ><thead>    <tr>        <th class=\"blank\" ></th>        <th class=\"blank level0\" ></th>        <th class=\"col_heading level0 col0\" >Purchase Count</th>        <th class=\"col_heading level0 col1\" >Item Price</th>        <th class=\"col_heading level0 col2\" >Total Purchase Value</th>    </tr>    <tr>        <th class=\"index_name level0\" >Item ID</th>        <th class=\"index_name level1\" >Item Name</th>        <th class=\"blank\" ></th>        <th class=\"blank\" ></th>        <th class=\"blank\" ></th>    </tr></thead><tbody>\n",
       "                <tr>\n",
       "                        <th id=\"T_48743c98_08c1_11eb_911b_acde48001122level0_row0\" class=\"row_heading level0 row0\" >92</th>\n",
       "                        <th id=\"T_48743c98_08c1_11eb_911b_acde48001122level1_row0\" class=\"row_heading level1 row0\" >Final Critic</th>\n",
       "                        <td id=\"T_48743c98_08c1_11eb_911b_acde48001122row0_col0\" class=\"data row0 col0\" >13</td>\n",
       "                        <td id=\"T_48743c98_08c1_11eb_911b_acde48001122row0_col1\" class=\"data row0 col1\" >$4.61</td>\n",
       "                        <td id=\"T_48743c98_08c1_11eb_911b_acde48001122row0_col2\" class=\"data row0 col2\" >$59.99</td>\n",
       "            </tr>\n",
       "            <tr>\n",
       "                        <th id=\"T_48743c98_08c1_11eb_911b_acde48001122level0_row1\" class=\"row_heading level0 row1\" >178</th>\n",
       "                        <th id=\"T_48743c98_08c1_11eb_911b_acde48001122level1_row1\" class=\"row_heading level1 row1\" >Oathbreaker, Last Hope of the Breaking Storm</th>\n",
       "                        <td id=\"T_48743c98_08c1_11eb_911b_acde48001122row1_col0\" class=\"data row1 col0\" >12</td>\n",
       "                        <td id=\"T_48743c98_08c1_11eb_911b_acde48001122row1_col1\" class=\"data row1 col1\" >$4.23</td>\n",
       "                        <td id=\"T_48743c98_08c1_11eb_911b_acde48001122row1_col2\" class=\"data row1 col2\" >$50.76</td>\n",
       "            </tr>\n",
       "            <tr>\n",
       "                        <th id=\"T_48743c98_08c1_11eb_911b_acde48001122level0_row2\" class=\"row_heading level0 row2\" >82</th>\n",
       "                        <th id=\"T_48743c98_08c1_11eb_911b_acde48001122level1_row2\" class=\"row_heading level1 row2\" >Nirvana</th>\n",
       "                        <td id=\"T_48743c98_08c1_11eb_911b_acde48001122row2_col0\" class=\"data row2 col0\" >9</td>\n",
       "                        <td id=\"T_48743c98_08c1_11eb_911b_acde48001122row2_col1\" class=\"data row2 col1\" >$4.90</td>\n",
       "                        <td id=\"T_48743c98_08c1_11eb_911b_acde48001122row2_col2\" class=\"data row2 col2\" >$44.10</td>\n",
       "            </tr>\n",
       "            <tr>\n",
       "                        <th id=\"T_48743c98_08c1_11eb_911b_acde48001122level0_row3\" class=\"row_heading level0 row3\" >145</th>\n",
       "                        <th id=\"T_48743c98_08c1_11eb_911b_acde48001122level1_row3\" class=\"row_heading level1 row3\" >Fiery Glass Crusader</th>\n",
       "                        <td id=\"T_48743c98_08c1_11eb_911b_acde48001122row3_col0\" class=\"data row3 col0\" >9</td>\n",
       "                        <td id=\"T_48743c98_08c1_11eb_911b_acde48001122row3_col1\" class=\"data row3 col1\" >$4.58</td>\n",
       "                        <td id=\"T_48743c98_08c1_11eb_911b_acde48001122row3_col2\" class=\"data row3 col2\" >$41.22</td>\n",
       "            </tr>\n",
       "            <tr>\n",
       "                        <th id=\"T_48743c98_08c1_11eb_911b_acde48001122level0_row4\" class=\"row_heading level0 row4\" >103</th>\n",
       "                        <th id=\"T_48743c98_08c1_11eb_911b_acde48001122level1_row4\" class=\"row_heading level1 row4\" >Singed Scalpel</th>\n",
       "                        <td id=\"T_48743c98_08c1_11eb_911b_acde48001122row4_col0\" class=\"data row4 col0\" >8</td>\n",
       "                        <td id=\"T_48743c98_08c1_11eb_911b_acde48001122row4_col1\" class=\"data row4 col1\" >$4.35</td>\n",
       "                        <td id=\"T_48743c98_08c1_11eb_911b_acde48001122row4_col2\" class=\"data row4 col2\" >$34.80</td>\n",
       "            </tr>\n",
       "    </tbody></table>"
      ],
      "text/plain": [
       "<pandas.io.formats.style.Styler at 0x7face4f91860>"
      ]
     },
     "execution_count": 34,
     "metadata": {},
     "output_type": "execute_result"
    }
   ],
   "source": [
    "#sort dataframe descending by Total Purchase Value\n",
    "prof_output_df=pop_output_df.sort_values(\"Total Purchase Value\",ascending=False)\n",
    "\n",
    "#set dictionary for proper formatting\n",
    "format_dict = {'Item Price':'${:.2f}', 'Total Purchase Value': '${:,.2f}'}\n",
    "\n",
    "#output df in proper format\n",
    "prof_output_df.head().style.format(format_dict)"
   ]
  },
  {
   "cell_type": "code",
   "execution_count": null,
   "metadata": {},
   "outputs": [],
   "source": []
  }
 ],
 "metadata": {
  "anaconda-cloud": {},
  "kernel_info": {
   "name": "python3"
  },
  "kernelspec": {
   "display_name": "Python 3",
   "language": "python",
   "name": "python3"
  },
  "language_info": {
   "codemirror_mode": {
    "name": "ipython",
    "version": 3
   },
   "file_extension": ".py",
   "mimetype": "text/x-python",
   "name": "python",
   "nbconvert_exporter": "python",
   "pygments_lexer": "ipython3",
   "version": "3.6.10"
  },
  "latex_envs": {
   "LaTeX_envs_menu_present": true,
   "autoclose": false,
   "autocomplete": true,
   "bibliofile": "biblio.bib",
   "cite_by": "apalike",
   "current_citInitial": 1,
   "eqLabelWithNumbers": true,
   "eqNumInitial": 1,
   "hotkeys": {
    "equation": "Ctrl-E",
    "itemize": "Ctrl-I"
   },
   "labels_anchors": false,
   "latex_user_defs": false,
   "report_style_numbering": false,
   "user_envs_cfg": false
  },
  "nteract": {
   "version": "0.2.0"
  }
 },
 "nbformat": 4,
 "nbformat_minor": 2
}
